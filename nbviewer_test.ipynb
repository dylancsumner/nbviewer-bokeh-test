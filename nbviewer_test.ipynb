{
 "cells": [
  {
   "cell_type": "code",
   "execution_count": null,
   "metadata": {
    "collapsed": false
   },
   "outputs": [],
   "source": [
    "import pandas as pd\n",
    "import numpy as np\n",
    "import matplotlib.pyplot as plt\n",
    "import seaborn as sns\n",
    "import bokeh.plotting as bk\n",
    "from sklearn import datasets\n",
    "\n",
    "from bokeh.io import output_notebook\n",
    "\n",
    "%matplotlib inline\n",
    "sns.set_style('darkgrid')\n",
    "output_notebook()"
   ]
  },
  {
   "cell_type": "code",
   "execution_count": null,
   "metadata": {
    "collapsed": false
   },
   "outputs": [],
   "source": [
    "iris = datasets.load_iris()"
   ]
  },
  {
   "cell_type": "code",
   "execution_count": null,
   "metadata": {
    "collapsed": false
   },
   "outputs": [],
   "source": [
    "species = pd.Series(iris.target)\n",
    "mapping = {code: name for code, name in zip(species.unique(), iris.target_names)}\n",
    "species = species.map(mapping)\n",
    "iris = pd.DataFrame(iris.data, columns=iris.feature_names)\n",
    "iris['species'] = species"
   ]
  },
  {
   "cell_type": "code",
   "execution_count": null,
   "metadata": {
    "collapsed": false
   },
   "outputs": [],
   "source": [
    "sns.pairplot(iris, diag_kind='kde', hue='species')"
   ]
  },
  {
   "cell_type": "code",
   "execution_count": null,
   "metadata": {
    "collapsed": false
   },
   "outputs": [],
   "source": [
    "sns.regplot(x='petal width (cm)', y='sepal length (cm)', data=iris)"
   ]
  },
  {
   "cell_type": "code",
   "execution_count": null,
   "metadata": {
    "collapsed": false
   },
   "outputs": [],
   "source": [
    "p = bk.figure(plot_width=800, plot_height=800)\n",
    "p.circle(iris['petal length (cm)'], iris['sepal width (cm)'], size=20, color=\"navy\", alpha=0.5)\n",
    "bk.show(p)"
   ]
  },
  {
   "cell_type": "code",
   "execution_count": null,
   "metadata": {
    "collapsed": false
   },
   "outputs": [],
   "source": [
    "print('test')"
   ]
  },
  {
   "cell_type": "code",
   "execution_count": null,
   "metadata": {
    "collapsed": false
   },
   "outputs": [],
   "source": [
    "#from ipywidgets import interact, fixed\n",
    "\n",
    "#@interact(x_pts=fixed(iris['petal length (cm)']), y_pts=fixed(iris['sepal width (cm)']), gradient=0.0, intersection=0.0)\n",
    "#def plot_separator(x_pts, y_pts, gradient, intersection):\n",
    "#    plt.scatter(x_pts, y_pts)\n",
    "#    axes = plt.gca()\n",
    "#    xlim = axes.get_xlim()\n",
    "#    xrange = xlim[1] - xlim[0]\n",
    "#    safety_width = xrange * 0.1\n",
    "#    x = np.linspace(xlim[0] - safety_width, xlim[1] + safety_width, 100)\n",
    "#    y = (gradient * x) + intersection\n",
    "#    plt.plot(x, y)"
   ]
  },
  {
   "cell_type": "code",
   "execution_count": null,
   "metadata": {
    "collapsed": true
   },
   "outputs": [],
   "source": []
  }
 ],
 "metadata": {
  "anaconda-cloud": {},
  "kernelspec": {
   "display_name": "Python [conda root]",
   "language": "python",
   "name": "conda-root-py"
  },
  "language_info": {
   "codemirror_mode": {
    "name": "ipython",
    "version": 3
   },
   "file_extension": ".py",
   "mimetype": "text/x-python",
   "name": "python",
   "nbconvert_exporter": "python",
   "pygments_lexer": "ipython3",
   "version": "3.5.2"
  }
 },
 "nbformat": 4,
 "nbformat_minor": 1
}
